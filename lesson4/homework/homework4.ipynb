{
 "cells": [
  {
   "cell_type": "markdown",
   "metadata": {},
   "source": [
    "# Практическое задание\n",
    "\n",
    "Тема: Системы линейных уравнений, часть 1"
   ]
  },
  {
   "cell_type": "markdown",
   "metadata": {},
   "source": [
    "## Задание 1"
   ]
  },
  {
   "cell_type": "markdown",
   "metadata": {},
   "source": [
    "Решить систему уравнений методом Гаусса:\n",
    "\n",
    "$$\\begin{cases}\n",
    "x_{1}+x_{2}-x_{3}-2x_{4}=0, \\\\\n",
    "2x_{1}+x_{2}-x_{3}+x_{4}=-2, \\\\\n",
    "x_{1}+x_{2}-3x_{3}+x_{4}=4.\n",
    "\\end{cases}$$"
   ]
  },
  {
   "cell_type": "markdown",
   "metadata": {},
   "source": [
    "Составим расширенную матрицу и приведем ее к диагональному виду\n",
    "\n",
    "$\n",
    "\\begin{pmatrix}\n",
    "1 & 1 & -1 & -2 & 0 \\\\\n",
    "2 & 1 & -1 & 1 & -2 \\\\\n",
    "1 & 1 & -3 & 1 & 4\n",
    "\\end{pmatrix}\n",
    "$\n",
    "\n",
    "вычитаем из второй строчки удвоенную первую\n",
    "\n",
    "$\n",
    "\\begin{pmatrix}\n",
    "1 & 1 & -1 & -2 & 0 \\\\\n",
    "0 & -1 & -3 & 5 & -2 \\\\\n",
    "1 & 1 & -3 & 1 & 4\n",
    "\\end{pmatrix}\n",
    "$\n",
    "\n",
    "вычитаем из третьей строки первую\n",
    "\n",
    "$\n",
    "\\begin{pmatrix}\n",
    "1 & 1 & -1 & -2 & 0 \\\\\n",
    "0 & -1 & -3 & 5 & -2 \\\\\n",
    "0 & 0 & -2 & 3 & 4\n",
    "\\end{pmatrix}\n",
    "$\n",
    "\n"
   ]
  },
  {
   "cell_type": "markdown",
   "metadata": {},
   "source": [
    "Ранг матрицы = 3 а размерность 4, следовательно получим бесконечное множество решений"
   ]
  },
  {
   "cell_type": "markdown",
   "metadata": {},
   "source": [
    "Перепишем новую систему уравнений\n"
   ]
  },
  {
   "cell_type": "markdown",
   "metadata": {},
   "source": [
    "$\n",
    "\\begin{cases}\n",
    "x_1 + x_2 - x_3 - 2x_4 = 0 \\\\\n",
    "-x_2 -3x_3 + 5x_4 = -2 \\\\\n",
    "-2x_3 + 3x_4 = 4\n",
    "\\end{cases}\n",
    "$"
   ]
  },
  {
   "cell_type": "markdown",
   "metadata": {},
   "source": [
    "Примем за параметр $x_2 = c$"
   ]
  },
  {
   "cell_type": "markdown",
   "metadata": {},
   "source": [
    "$\n",
    "\\begin{cases}\n",
    "x_1 + c - x_3 - 2x_4 = 0 \\\\\n",
    "-c -3x_3 + 5x_4 = -2 \\\\\n",
    "-2x_3 + 3x_4 = 4\n",
    "\\end{cases}\\implies\n",
    "\\begin{cases}\n",
    "x_1 + c - 2x_4 = x_3 \\\\\n",
    "-c -3x_3 + 5x_4 = -2 \\\\\n",
    "x_3 = \\frac{3x_4 - 4}{2}\n",
    "\\end{cases}\\implies\n",
    "\\begin{cases}\n",
    "x_1 + c - 2x_4 = x_3 \\\\\n",
    "-c -3x_3 + 5x_4 = -2 \\\\\n",
    "x_3 = \\frac{3x_4 - 4}{2}\n",
    "\\end{cases}\\implies\n",
    "\\begin{cases}\n",
    "2x_1 + 2c - 4x_4 = 3x_4 - 4 \\\\\n",
    "-c -3x_3 + 5x_4 = -2 \\\\\n",
    "x_3 = \\frac{3x_4 - 4}{2}\n",
    "\\end{cases}\\implies\n",
    "\\begin{cases}\n",
    "x_1 = \\frac{7x_4 - 4 - 2c}{2}\\\\\n",
    "x_4 = 2c - 16 \\\\\n",
    "x_3 = \\frac{3x_4 - 4}{2}\n",
    "\\end{cases}\\implies\n",
    "\\begin{cases}\n",
    "x_1 = 6c - 58 \\\\\n",
    "x_4 = 2c - 16 \\\\\n",
    "x_3 = 3c - 26\n",
    "\\end{cases}\n",
    "$"
   ]
  },
  {
   "cell_type": "markdown",
   "metadata": {},
   "source": [
    "## Задание 2"
   ]
  },
  {
   "cell_type": "markdown",
   "metadata": {},
   "source": [
    "Проверить на совместность и выяснить, сколько решений будет иметь система линейных уравнений:\n",
    "\n",
    "   а) $\\begin{cases}\n",
    "3x_{1}-x_{2}+x_{3}=4, \\\\\n",
    "2x_{1}-5x_{2}-3x_{3}=-17, \\\\\n",
    "x_{1}+x_{2}-x_{3}=0;\n",
    "\\end{cases}$\n",
    "    \n",
    "   б) $\\begin{cases}\n",
    "2x_{1}-4x_{2}+6x_{3}=1, \\\\\n",
    "x_{1}-2x_{2}+3x_{3}=-2, \\\\\n",
    "3x_{1}-6x_{2}+9x_{3}=5;\n",
    "\\end{cases}$\n",
    "    \n",
    "   в) $\\begin{cases}\n",
    "x_{1}+2x_{2}+5x_{3}=4, \\\\\n",
    "3x_{1}+x_{2}-8x_{3}=-2. \n",
    "\\end{cases}$"
   ]
  },
  {
   "cell_type": "markdown",
   "metadata": {},
   "source": [
    "a) Запишем матрицу системы\n",
    "$\n",
    "\\begin{pmatrix}\n",
    "3 & -1 & 1 & 4 \\\\\n",
    "2 & -5 & -3 & -17 \\\\\n",
    "1 & 1 & -1 & 0\n",
    "\\end{pmatrix}\\implies\n",
    "\\begin{pmatrix}\n",
    "1 & 1 & -1 & 0 \\\\\n",
    "0 & -4 & -2 & 4 \\\\\n",
    "0 & -7 & -1 & -17\n",
    "\\end{pmatrix}\\implies\n",
    "\\begin{pmatrix}\n",
    "1 & 1 & -1 & 0 \\\\\n",
    "0 & -4 & -2 & 4 \\\\\n",
    "0 & 0 & 2.5 & -24\n",
    "\\end{pmatrix}\\implies\n",
    "$ совместна, 1 решение"
   ]
  },
  {
   "cell_type": "markdown",
   "metadata": {},
   "source": [
    "б) Запишем матрицу системы\n",
    "$\n",
    "\\begin{pmatrix}\n",
    "2 & -4 & 6 & 1 \\\\\n",
    "1 & -2 & 3 & -2 \\\\\n",
    "3 & -6 & 9 & 5\n",
    "\\end{pmatrix}\\implies\n",
    "\\begin{pmatrix}\n",
    "1 & -2 & 3 & -2 \\\\\n",
    "2 & -4 & 6 & 1 \\\\\n",
    "3 & -6 & 9 & 5\n",
    "\\end{pmatrix}\\implies\n",
    "\\begin{pmatrix}\n",
    "1 & -2 & 3 & -2 \\\\\n",
    "0 & 0 & 0 & 5 \\\\\n",
    "3 & -6 & 9 & 5\n",
    "\\end{pmatrix}\\implies\n",
    "0 \\neq 5 \\implies\n",
    "$ несовместна"
   ]
  },
  {
   "cell_type": "markdown",
   "metadata": {},
   "source": [
    "в) Запишем матрицу системы\n",
    "$\n",
    "\\begin{pmatrix}\n",
    "1 & 2 & 5 & 4 \\\\\n",
    "3 & 1 & -8 & -2 \n",
    "\\end{pmatrix}\\implies\n",
    "\\begin{pmatrix}\n",
    "1 & 2 & 5 & 4 \\\\\n",
    "0 & -5 & 7 & -14 \n",
    "\\end{pmatrix}\\implies\n",
    "$\n",
    "r = 2, n = 4, совместна, бесконечное множество решений"
   ]
  },
  {
   "cell_type": "markdown",
   "metadata": {},
   "source": [
    "## Задание 3"
   ]
  },
  {
   "cell_type": "markdown",
   "metadata": {},
   "source": [
    "Проверить на совместность и выяснить, сколько решений будет иметь система линейных уравнений, заданная расширенной матрицей\n",
    "\n",
    "$$\\tilde{A}=\\begin{pmatrix}\n",
    "\\left.\\begin{matrix}\n",
    "1 & 3 & -2 & 4\\\\ \n",
    "0 & 5 & 0 & 1\\\\ \n",
    "0 & 0 & 3 & 0\\\\ \n",
    "0 & 0 & 0 & 2\n",
    "\\end{matrix}\\right|\n",
    "\\begin{matrix}\n",
    "3\\\\ \n",
    "2\\\\\n",
    "4\\\\\n",
    "1\n",
    "\\end{matrix}\n",
    "\\end{pmatrix}.$$"
   ]
  },
  {
   "cell_type": "code",
   "execution_count": 3,
   "metadata": {},
   "outputs": [
    {
     "data": {
      "text/plain": [
       "30.000000000000004"
      ]
     },
     "execution_count": 3,
     "metadata": {},
     "output_type": "execute_result"
    }
   ],
   "source": [
    "import numpy as np\n",
    "A = np.array([[1, 3, -2, 4], [0, 5, 0, 1], [0, 0, 3, 0], [0, 0, 0, 2]])\n",
    "np.linalg.det(A)"
   ]
  },
  {
   "cell_type": "markdown",
   "metadata": {},
   "source": [
    "Так как определитель не равен 0, можем подобрать обратную матрицу для матрицы A"
   ]
  },
  {
   "cell_type": "code",
   "execution_count": 7,
   "metadata": {},
   "outputs": [],
   "source": [
    "A_inv = np.linalg.inv(A)\n",
    "b = np.array([3, 2, 4, 1])"
   ]
  },
  {
   "cell_type": "code",
   "execution_count": 8,
   "metadata": {},
   "outputs": [
    {
     "data": {
      "text/plain": [
       "array([2.76666667, 0.3       , 1.33333333, 0.5       ])"
      ]
     },
     "execution_count": 8,
     "metadata": {},
     "output_type": "execute_result"
    }
   ],
   "source": [
    "np.dot(A_inv, b)"
   ]
  },
  {
   "cell_type": "markdown",
   "metadata": {},
   "source": [
    "Система имеет 1 решение $[2.76666667, 0.3, 1\\frac{1}{3}, 0.5]$"
   ]
  },
  {
   "cell_type": "markdown",
   "metadata": {},
   "source": [
    "## Задание"
   ]
  },
  {
   "cell_type": "markdown",
   "metadata": {},
   "source": [
    "Дана система линейных уравнений, заданная расширенной матрицей\n",
    "\n",
    "$$\\tilde{A}=\\begin{pmatrix}\n",
    "\\left.\\begin{matrix}\n",
    "1 & 2 & 3\\\\ \n",
    "4 & 5 & 6\\\\ \n",
    "7 & 8 & 9\n",
    "\\end{matrix}\\right|\n",
    "\\begin{matrix}\n",
    "a\\\\ \n",
    "b\\\\\n",
    "c\n",
    "\\end{matrix}\n",
    "\\end{pmatrix}.$$\n",
    "\n",
    "Найти соотношение между параметрами $a$, $b$ и $c$, при которых система является несовместной."
   ]
  },
  {
   "cell_type": "markdown",
   "metadata": {},
   "source": [
    "$A^{-1} = \\frac{1}{|A|}A_*^T$"
   ]
  },
  {
   "cell_type": "code",
   "execution_count": 13,
   "metadata": {},
   "outputs": [
    {
     "data": {
      "text/plain": [
       "6.66133814775094e-16"
      ]
     },
     "execution_count": 13,
     "metadata": {},
     "output_type": "execute_result"
    }
   ],
   "source": [
    "A = np.array([[1, 2, 3], [4, 5, 6], [7, 8, 9]])\n",
    "det_A = np.linalg.det(A)\n",
    "det_A"
   ]
  },
  {
   "cell_type": "markdown",
   "metadata": {},
   "source": [
    "Определитель равен нулю, следовательно обратной матрицы $A^{-1}$ не существует, это означает: что система несовместна при любых a, b, c"
   ]
  },
  {
   "cell_type": "markdown",
   "metadata": {},
   "source": [
    "# Практическое задание\n",
    "\n",
    "Тема: Системы линейных уравнений, часть 2"
   ]
  },
  {
   "cell_type": "markdown",
   "metadata": {},
   "source": [
    "## Задание 1"
   ]
  },
  {
   "cell_type": "markdown",
   "metadata": {},
   "source": [
    "Решить систему уравнений методом Крамера:\n",
    "\n",
    "   а) $\\begin{cases}\n",
    "x_{1}-2x_{2}=1 \\\\\n",
    "3x_{1}-4x_{2}=7\n",
    "\\end{cases}$\n",
    "    \n",
    "   б) $\\begin{cases}\n",
    "2x_{1}-x_{2}+5x_{3}=10 \\\\\n",
    "x_{1}+x_{2}-3x_{3}=-2 \\\\\n",
    "2x_{1}+4x_{2}+x_{3}=1\n",
    "\\end{cases}$"
   ]
  },
  {
   "cell_type": "markdown",
   "metadata": {},
   "source": [
    "$$x_{i}=\\frac{detA_{i}}{detA}$$"
   ]
  },
  {
   "cell_type": "markdown",
   "metadata": {},
   "source": [
    "### Решение"
   ]
  },
  {
   "cell_type": "markdown",
   "metadata": {},
   "source": [
    "a)\n",
    "$A =\n",
    "\\begin{pmatrix}\n",
    "1 & -2 \\\\\n",
    "3 & -4\n",
    "\\end{pmatrix}$\n",
    "\n",
    "$|A| = -4 + 6 = 2$\n",
    "\n",
    "$\n",
    "A_{1} =\n",
    "\\begin{pmatrix}\n",
    "1 & -2 \\\\\n",
    "7 & -4\n",
    "\\end{pmatrix} = -4 + 14 = 10\n",
    "$\n",
    "\n",
    "$A_{2} =\n",
    "\\begin{pmatrix}\n",
    "1 & 3 \\\\\n",
    "1 & 7\n",
    "\\end{pmatrix} = 7 - 3 = 4\n",
    "$\n",
    "\n",
    "$x_1 = 5, x_2 = 2$"
   ]
  },
  {
   "cell_type": "markdown",
   "metadata": {},
   "source": [
    "b)\n",
    "$A =\n",
    "\\begin{pmatrix}\n",
    "2 & -1 & 5 \\\\\n",
    "1 & 1 & -3 \\\\\n",
    "2 & 4 & 1\n",
    "\\end{pmatrix},\n",
    "B = \\begin{pmatrix}\n",
    "10 \\\\\n",
    "-2 \\\\\n",
    "1\n",
    "\\end{pmatrix}\n",
    "$\n",
    "\n",
    "$|A|=2\n",
    "\\begin{pmatrix}\n",
    "1 & -3 \\\\\n",
    "4 & 1\n",
    "\\end{pmatrix}\n",
    "+ 1\n",
    "\\begin{pmatrix}\n",
    "1 & -3 \\\\\n",
    "2 & 1\n",
    "\\end{pmatrix}\n",
    "+ 5\n",
    "\\begin{pmatrix}\n",
    "1 & 1 \\\\\n",
    "2 & 4\n",
    "\\end{pmatrix}= 26 + 7 + 10 = 43$\n",
    "$"
   ]
  },
  {
   "cell_type": "markdown",
   "metadata": {},
   "source": [
    "$\n",
    "A_1 = 10\\begin{pmatrix}\n",
    "1 & -3 \\\\\n",
    "4 & 1\n",
    "\\end{pmatrix} + 1\\begin{pmatrix}\n",
    "-2 & -3 \\\\\n",
    "1 & 1\n",
    "\\end{pmatrix} + 5\\begin{pmatrix}\n",
    "-2 & 1 \\\\\n",
    "1 & 4\n",
    "\\end{pmatrix}\n",
    "= 86\n",
    "$"
   ]
  },
  {
   "cell_type": "markdown",
   "metadata": {},
   "source": [
    "$\n",
    "A_2 = 2\\begin{pmatrix}\n",
    "-2 & -3 \\\\\n",
    "1 & 1\n",
    "\\end{pmatrix} - 10\\begin{pmatrix}\n",
    "1 & -3 \\\\\n",
    "2 & 1\n",
    "\\end{pmatrix} + 5\\begin{pmatrix}\n",
    "1 & -2 \\\\\n",
    "2 & 1\n",
    "\\end{pmatrix}\n",
    "= -43\n",
    "$"
   ]
  },
  {
   "cell_type": "markdown",
   "metadata": {},
   "source": [
    "$\n",
    "A_3 = 2\\begin{pmatrix}\n",
    "1 & -2 \\\\\n",
    "4 & 1\n",
    "\\end{pmatrix} + 1\\begin{pmatrix}\n",
    "1 & -2 \\\\\n",
    "2 & 1\n",
    "\\end{pmatrix} + 10\\begin{pmatrix}\n",
    "1 & 1 \\\\\n",
    "2 & 4\n",
    "\\end{pmatrix}\n",
    "= 43\n",
    "$"
   ]
  },
  {
   "cell_type": "markdown",
   "metadata": {},
   "source": [
    "$x_1 = 2, x_2 = -1, x_3 = 1$"
   ]
  },
  {
   "cell_type": "markdown",
   "metadata": {},
   "source": [
    "## Задание 2"
   ]
  },
  {
   "cell_type": "markdown",
   "metadata": {},
   "source": [
    "Найти $L$-матрицу $LU$-разложения для матрицы коэффициентов:\n",
    "\n",
    "   а)$$\\begin{pmatrix}\n",
    "1 & 2 & 4 \\\\ \n",
    "2 & 9 & 12 \\\\ \n",
    "3 & 26 & 30\n",
    "\\end{pmatrix}$$\n",
    "    \n",
    "   б)$$\\begin{pmatrix}\n",
    "1 & 1 & 2 & 4\\\\ \n",
    "2 & 5 & 8 & 9\\\\ \n",
    "3 & 18 & 29 & 18\\\\\n",
    "4 & 22 & 53 & 33\n",
    "\\end{pmatrix}$$"
   ]
  },
  {
   "cell_type": "markdown",
   "metadata": {},
   "source": [
    "### Решение"
   ]
  },
  {
   "cell_type": "markdown",
   "metadata": {},
   "source": [
    "a) $\\begin{pmatrix}\n",
    "1 & 2 & 4 \\\\ \n",
    "2 & 9 & 12 \\\\ \n",
    "3 & 26 & 30\n",
    "\\end{pmatrix}$\n",
    "\n",
    "1)\n",
    "$\n",
    "L = \\begin{pmatrix}\n",
    "1 & 0 & 0 \\\\\n",
    "2 & 1 & 0 \\\\\n",
    "3 & l_{3, 2} & 1 \\\\\n",
    "\\end{pmatrix},\n",
    "U = \\begin{pmatrix}\n",
    "1 & 2 & 4 \\\\\n",
    "0 & 5 & 4 \\\\\n",
    "0 & 20 & 18\n",
    "\\end{pmatrix}\n",
    "$\n",
    "\n",
    "2)\n",
    "$\n",
    "L = \\begin{pmatrix}\n",
    "1 & 0 & 0 \\\\\n",
    "2 & 1 & 0 \\\\\n",
    "3 & 4 & 1 \\\\\n",
    "\\end{pmatrix},\n",
    "U = \\begin{pmatrix}\n",
    "1 & 2 & 4 \\\\\n",
    "0 & 5 & 4 \\\\\n",
    "0 & 0 & 2\n",
    "\\end{pmatrix}\n",
    "$"
   ]
  },
  {
   "cell_type": "markdown",
   "metadata": {},
   "source": [
    "b)\n",
    "$\\begin{pmatrix}\n",
    "1 & 1 & 2 & 4\\\\ \n",
    "2 & 5 & 8 & 9\\\\ \n",
    "3 & 18 & 29 & 18\\\\\n",
    "4 & 22 & 53 & 33\n",
    "\\end{pmatrix}$\n",
    "\n",
    "1) $L = \\begin{pmatrix}\n",
    "1 & 0 & 0 & 0 \\\\\n",
    "2 & 1 & 0 & 0 \\\\\n",
    "3 & l_{3,2} & 1 & 0 \\\\\n",
    "4 & l_{4,2} & l_{4,3} & 1\n",
    "\\end{pmatrix}, U = \\begin{pmatrix}\n",
    "1 & 1 & 2 & 4 \\\\\n",
    "0 & 3 & 4 & 1 \\\\\n",
    "0 & 15 & 23 & 6 \\\\\n",
    "0 & 18 & 45 & 17 \\\\\n",
    "\\end{pmatrix}$\n",
    "\n",
    "2) $L = \\begin{pmatrix}\n",
    "1 & 0 & 0 & 0 \\\\\n",
    "2 & 1 & 0 & 0 \\\\\n",
    "3 & 5 & 1 & 0 \\\\\n",
    "4 & 6 & l_{4,3} & 1\n",
    "\\end{pmatrix}, U = \\begin{pmatrix}\n",
    "1 & 1 & 2 & 4 \\\\\n",
    "0 & 3 & 4 & 1 \\\\\n",
    "0 & 0 & 3 & 1 \\\\\n",
    "0 & 0 & 21 & 19\n",
    "\\end{pmatrix}$\n",
    "\n",
    "3) $L = \\begin{pmatrix}\n",
    "1 & 0 & 0 & 0 \\\\\n",
    "2 & 1 & 0 & 0 \\\\\n",
    "3 & 5 & 1 & 0 \\\\\n",
    "4 & 6 & 7 & 1\n",
    "\\end{pmatrix}, U = \\begin{pmatrix}\n",
    "1 & 1 & 2 & 4 \\\\\n",
    "0 & 3 & 4 & 1 \\\\\n",
    "0 & 0 & 3 & 1 \\\\\n",
    "0 & 0 & 0 & 12\n",
    "\\end{pmatrix}$\n"
   ]
  },
  {
   "cell_type": "markdown",
   "metadata": {},
   "source": [
    "## Задание 3"
   ]
  },
  {
   "cell_type": "markdown",
   "metadata": {},
   "source": [
    "Решить систему линейных уравнений методом $LU$-разложения\n",
    "\n",
    "$$\\begin{cases}\n",
    "2x_{1}+x_{2}+3x_{3}=1 \\\\\n",
    "11x_{1}+7x_{2}+5x_{3}=-6 \\\\\n",
    "9x_{1}+8x_{2}+4x_{3}=-5\n",
    "\\end{cases}$$"
   ]
  },
  {
   "cell_type": "markdown",
   "metadata": {},
   "source": [
    "### Решение"
   ]
  },
  {
   "cell_type": "markdown",
   "metadata": {},
   "source": [
    "$A = \n",
    "\\begin{pmatrix}\n",
    "2 & 1 & 3 \\\\\n",
    "11 & 7 & 5 \\\\\n",
    "9 & 8 & 4 \\\\\n",
    "\\end{pmatrix}\\implies\n",
    "\\begin{pmatrix}\n",
    "1 & 3 & 2 \\\\\n",
    "7 & 5 & 11 \\\\\n",
    "8 & 4 & 9 \\\\\n",
    "\\end{pmatrix}\n",
    "$\n",
    "\n",
    "$1) L = \\begin{pmatrix}\n",
    "1 & 0 & 0 \\\\\n",
    "7 & 1 & 0 \\\\\n",
    "8 & l_{3,2} & 1\n",
    "\\end{pmatrix}, U = \\begin{pmatrix}\n",
    "2 &   3 &     1 \\\\\n",
    "0 & -16 & -3 \\\\\n",
    "0 & -20 & -7\n",
    "\\end{pmatrix} \\\\\n",
    "2) L = \\begin{pmatrix}\n",
    "1 & 0 & 0 \\\\\n",
    "7 & 1 & 0 \\\\\n",
    "8 & 1.25 & 1\n",
    "\\end{pmatrix}, U = \\begin{pmatrix}\n",
    "2 &   3 &     1 \\\\\n",
    "0 & -16 & -3 \\\\\n",
    "0 & 0 & -3.25\n",
    "\\end{pmatrix}\n",
    "$"
   ]
  },
  {
   "cell_type": "markdown",
   "metadata": {},
   "source": [
    "$$L\\cdot y = B$$\n",
    "\n"
   ]
  },
  {
   "cell_type": "markdown",
   "metadata": {},
   "source": [
    "$\n",
    "\\begin{cases}\n",
    "y_1 = 1 \\\\\n",
    "7y_1 + y_2 = -6 \\implies \\\\\n",
    "8y_1 + 1.25 y_2 + y_3 = -5 \\implies\n",
    "\\end{cases}\\implies\n",
    "\\begin{cases}\n",
    "y_1 = 1 \\\\\n",
    "y_2 = -13 \\\\\n",
    "y_3 = 3.25\n",
    "\\end{cases}\n",
    "$"
   ]
  },
  {
   "cell_type": "markdown",
   "metadata": {},
   "source": [
    "$$U\\cdot x = y$$"
   ]
  },
  {
   "cell_type": "markdown",
   "metadata": {},
   "source": [
    "$\n",
    "\\begin{cases}\n",
    "2x_1 + 3x_2 + x_3 = 1 \\\\\n",
    "-16x_2 -3x_3 = -13 \\\\\n",
    "-3.25x_3 = 3.25\n",
    "\\end{cases}\\implies\n",
    "\\begin{cases}\n",
    "x_1 = -0.5 \\\\\n",
    "x_2 = 1 \\\\\n",
    "x_3 = -1\n",
    "\\end{cases}\n",
    "$"
   ]
  },
  {
   "cell_type": "markdown",
   "metadata": {},
   "source": [
    "$x_2$ и $x_3$ нужно поменять местами при проверке, т.к. я менял порядок столбцов для удобства"
   ]
  },
  {
   "cell_type": "markdown",
   "metadata": {},
   "source": [
    "## Задание 4"
   ]
  },
  {
   "cell_type": "markdown",
   "metadata": {},
   "source": [
    "Решить систему линейных уравнений методом Холецкого\n",
    "\n",
    "$$\\begin{cases}\n",
    "81x_{1}-45x_{2}+45x_{3}=531 \\\\\n",
    "-45x_{1}+50x_{2}-15x_{3}=-460 \\\\\n",
    "45x_{1}-15x_{2}+38x_{3}=193\n",
    "\\end{cases}$$"
   ]
  },
  {
   "cell_type": "markdown",
   "metadata": {},
   "source": [
    "### Решение"
   ]
  },
  {
   "cell_type": "markdown",
   "metadata": {},
   "source": [
    "$A =\n",
    "\\begin{pmatrix}\n",
    "81 & -45 & 45 \\\\\n",
    "-45 & 50 & -15 \\\\\n",
    "45 & -15 & 38\n",
    "\\end{pmatrix}\\implies\n",
    "\\begin{pmatrix}\n",
    "-45 & 81 & 45 \\\\\n",
    "50 & -45 & -15 \\\\\n",
    "-15 & 45 & 38\n",
    "\\end{pmatrix}\n",
    "$"
   ]
  },
  {
   "cell_type": "markdown",
   "metadata": {},
   "source": [
    "1) $L =\n",
    "\\begin{pmatrix}\n",
    "1 & 0 & 0 \\\\\n",
    "-10/9 & 1 & 0 \\\\\n",
    "1/3 & l_{3,2} & 1\n",
    "\\end{pmatrix},\n",
    "U = \\begin{pmatrix}\n",
    "-45 & 81 & 45 \\\\\n",
    "0 & 45 & 35 \\\\\n",
    "0 & 18 & 23\n",
    "\\end{pmatrix}\n",
    "$"
   ]
  },
  {
   "cell_type": "markdown",
   "metadata": {},
   "source": [
    "2) $L =\n",
    "\\begin{pmatrix}\n",
    "1 & 0 & 0 \\\\\n",
    "-10/9 & 1 & 0 \\\\\n",
    "1/3 & 2/5 & 1\n",
    "\\end{pmatrix},\n",
    "U = \\begin{pmatrix}\n",
    "-45 & 81 & 45 \\\\\n",
    "0 & 45 & 35 \\\\\n",
    "0 & 0 & 9\n",
    "\\end{pmatrix}\n",
    "$"
   ]
  },
  {
   "cell_type": "markdown",
   "metadata": {},
   "source": [
    "$L^T = \\begin{pmatrix}\n",
    "1 & -10/9 & 1/3 \\\\\n",
    "0 & 1 & 2/5 \\\\\n",
    "0 & 0 & 1\n",
    "\\end{pmatrix}$"
   ]
  },
  {
   "cell_type": "markdown",
   "metadata": {},
   "source": [
    "$$Ly = b$$"
   ]
  },
  {
   "cell_type": "markdown",
   "metadata": {},
   "source": [
    "$\\begin{cases}\n",
    "y_1 = 531 \\\\\n",
    "-\\frac{10}{9}y_1 + y_2 = -460 \\\\\n",
    "\\frac{1}{3}y_1 + \\frac{2}{5}y_2 + y_3 = 193\n",
    "\\end{cases}\\implies\n",
    "\\begin{cases}\n",
    "y_1 = 531 \\\\\n",
    "y_2 = 130 \\\\\n",
    "y_3 = 292\n",
    "\\end{cases}$"
   ]
  },
  {
   "cell_type": "markdown",
   "metadata": {},
   "source": [
    "$$L^Tx=y$$"
   ]
  },
  {
   "cell_type": "markdown",
   "metadata": {},
   "source": [
    "$\n",
    "\\begin{cases}\n",
    "x_1 - \\frac{10}{9}x_2 + \\frac{1}{3}x_3 = 531 \\\\\n",
    "x_2 + \\frac{2}{5}x_3 = 130 \\\\\n",
    "x_3 = 292\n",
    "\\end{cases}\n",
    "$"
   ]
  },
  {
   "cell_type": "markdown",
   "metadata": {},
   "source": [
    "$\n",
    "\\begin{cases}\n",
    "x_1 = 643 \\\\\n",
    "x_2 = 13.2 \\\\\n",
    "x_3 = 292\n",
    "\\end{cases}\n",
    "$"
   ]
  },
  {
   "cell_type": "markdown",
   "metadata": {},
   "source": [
    "## Задание 5"
   ]
  },
  {
   "cell_type": "markdown",
   "metadata": {},
   "source": [
    "Написать на Python программу с реализацией одного из изученных алгоритмов решения СЛАУ."
   ]
  },
  {
   "cell_type": "markdown",
   "metadata": {},
   "source": [
    "### Решение"
   ]
  },
  {
   "cell_type": "code",
   "execution_count": null,
   "metadata": {},
   "outputs": [],
   "source": []
  }
 ],
 "metadata": {
  "kernelspec": {
   "display_name": "Python 3",
   "language": "python",
   "name": "python3"
  },
  "language_info": {
   "codemirror_mode": {
    "name": "ipython",
    "version": 3
   },
   "file_extension": ".py",
   "mimetype": "text/x-python",
   "name": "python",
   "nbconvert_exporter": "python",
   "pygments_lexer": "ipython3",
   "version": "3.8.2"
  }
 },
 "nbformat": 4,
 "nbformat_minor": 4
}
