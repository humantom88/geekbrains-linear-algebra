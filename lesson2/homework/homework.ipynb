{
 "cells": [
  {
   "cell_type": "markdown",
   "metadata": {},
   "source": [
    "# Практическое задание 3"
   ]
  },
  {
   "cell_type": "code",
   "execution_count": null,
   "metadata": {},
   "outputs": [],
   "source": [
    "import numpy as np"
   ]
  },
  {
   "cell_type": "markdown",
   "metadata": {},
   "source": [
    "## Задание 1 \n",
    "Установить, какие произведения матриц  𝐴𝐵  и  𝐵𝐴  определены, и найти размерности полученных матриц:\n",
    "\n",
    "а) $A$ — матрица $4\\times 2$, $B$ — матрица $4\\times 2$;\n",
    "    \n",
    "б) $A$ — матрица $2\\times 5$, $B$ — матрица $5\\times 3$;\n",
    "\n",
    "в) $A$ — матрица $8\\times 3$, $B$ — матрица $3\\times 8$;\n",
    "    \n",
    "г) $A$ — квадратная матрица $4\\times 4$, $B$ — квадратная матрица $4\\times 4$."
   ]
  },
  {
   "cell_type": "markdown",
   "metadata": {},
   "source": [
    "### Решение\n",
    "\n",
    "а) не определено \\\n",
    "б) не определено \\\n",
    "в) определено - размерность результата 8 x 8 \\\n",
    "в) определено - размерность результата 4 x 4"
   ]
  },
  {
   "cell_type": "markdown",
   "metadata": {},
   "source": [
    "## Задание 2 \n",
    "\n",
    "Найти сумму и произведение матриц $A=\\begin{pmatrix}\n",
    "1 & -2\\\\ \n",
    "3 & 0\n",
    "\\end{pmatrix}$ и $B=\\begin{pmatrix}\n",
    "4 & -1\\\\ \n",
    "0 & 5\n",
    "\\end{pmatrix}.$"
   ]
  },
  {
   "cell_type": "markdown",
   "metadata": {},
   "source": [
    "### Решение"
   ]
  },
  {
   "cell_type": "markdown",
   "metadata": {},
   "source": [
    "$$A + B =\n",
    "\\begin{pmatrix}\n",
    "1 & -2\\\\ \n",
    "3 & 0\n",
    "\\end{pmatrix} +\n",
    "\\begin{pmatrix}\n",
    "4 & -1\\\\ \n",
    "0 & 5\n",
    "\\end{pmatrix}\n",
    "=\n",
    "\\begin{pmatrix}\n",
    "5 & -3 \\\\\n",
    "3 & 5\n",
    "\\end{pmatrix}\n",
    "$$\n",
    "\n",
    "$$A \\cdot B =\n",
    "\\begin{pmatrix}\n",
    "1 & -2\\\\ \n",
    "3 & 0\n",
    "\\end{pmatrix} \\cdot\n",
    "\\begin{pmatrix}\n",
    "4 & -1\\\\ \n",
    "0 & 5\n",
    "\\end{pmatrix}\n",
    "=\n",
    "\\begin{pmatrix}\n",
    "4 & -11 \\\\\n",
    "12 & -3\n",
    "\\end{pmatrix}\n",
    "$$"
   ]
  },
  {
   "cell_type": "code",
   "execution_count": null,
   "metadata": {},
   "outputs": [],
   "source": [
    "a = np.array([[1, -2], [3, 0]])\n",
    "b = np.array([[4,  -1], [0, 5]])\n",
    "a + b, np.dot(a,b)"
   ]
  },
  {
   "cell_type": "markdown",
   "metadata": {},
   "source": [
    "## Задание 3\n",
    "Из закономерностей сложения и умножения матриц на число можно сделать вывод, что матрицы одного размера образуют линейное пространство. Вычислить линейную комбинацию $3A-2B+4C$ для матриц $A=\\begin{pmatrix}\n",
    "1 & 7\\\\ \n",
    "3 & -6\n",
    "\\end{pmatrix}$, $B=\\begin{pmatrix}\n",
    "0 & 5\\\\ \n",
    "2 & -1\n",
    "\\end{pmatrix}$, $C=\\begin{pmatrix}\n",
    "2 & -4\\\\ \n",
    "1 & 1\n",
    "\\end{pmatrix}.$"
   ]
  },
  {
   "cell_type": "markdown",
   "metadata": {},
   "source": [
    "$\n",
    "3\\begin{pmatrix}\n",
    "1 & 7\\\\ \n",
    "3 & -6\n",
    "\\end{pmatrix} -2 \\begin{pmatrix}\n",
    "0 & 5\\\\ \n",
    "2 & -1\n",
    "\\end{pmatrix} + 4 \\begin{pmatrix}\n",
    "2 & -4\\\\ \n",
    "1 & 1\n",
    "\\end{pmatrix} =\n",
    "\\begin{pmatrix}\n",
    "3 & 21 \\\\\n",
    "9 & -18\n",
    "\\end{pmatrix} +\n",
    "\\begin{pmatrix}\n",
    "0 & -10 \\\\\n",
    "-4 & 2\n",
    "\\end{pmatrix} +\n",
    "\\begin{pmatrix}\n",
    "8 & -16 \\\\\n",
    "4 & 4\n",
    "\\end{pmatrix} =\n",
    "\\begin{pmatrix}\n",
    "11 & -5 \\\\\n",
    "9 & -12\n",
    "\\end{pmatrix}\n",
    "$"
   ]
  },
  {
   "cell_type": "code",
   "execution_count": null,
   "metadata": {},
   "outputs": [],
   "source": [
    "a = np.array([[1,7], [3,-6]])\n",
    "b = np.array([[0,5], [2,-1]])\n",
    "c = np.array([[2,-4], [1,1]])\n",
    "\n",
    "3*a -2*b + 4*c"
   ]
  },
  {
   "cell_type": "markdown",
   "metadata": {},
   "source": [
    "## Задание 4\n",
    "Дана матрица $A=\\begin{pmatrix}\n",
    "4 & 1\\\\ \n",
    "5 & -2\\\\ \n",
    "2 & 3\n",
    "\\end{pmatrix}$.\n",
    "Вычислить $AA^{T}$ и $A^{T}A$."
   ]
  },
  {
   "cell_type": "markdown",
   "metadata": {},
   "source": [
    "$AA^T=\n",
    "\\begin{pmatrix}\n",
    "4 & 1 \\\\\n",
    "5 & -2 \\\\\n",
    "2 & 3\n",
    "\\end{pmatrix}\n",
    "\\cdot\n",
    "\\begin{pmatrix}\n",
    "4 & 5 & 2 \\\\\n",
    "1 & -2 & 3\n",
    "\\end{pmatrix}\n",
    "=\n",
    "\\begin{pmatrix}\n",
    "17 & 18 & 11 \\\\\n",
    "18 & 29 & 4 \\\\\n",
    "11 & 4 & 13\n",
    "\\end{pmatrix}\n",
    "$"
   ]
  },
  {
   "cell_type": "markdown",
   "metadata": {},
   "source": [
    "$A^TA=\n",
    "\\begin{pmatrix}\n",
    "4 & 5 & 2 \\\\\n",
    "1 & -2 & 3\n",
    "\\end{pmatrix}\n",
    "\\cdot\n",
    "\\begin{pmatrix}\n",
    "4 & 1 \\\\\n",
    "5 & -2 \\\\\n",
    "2 & 3\n",
    "\\end{pmatrix}\n",
    "=\n",
    "\\begin{pmatrix}\n",
    "45 & 0 \\\\\n",
    "0 & 14\n",
    "\\end{pmatrix}\n",
    "$"
   ]
  },
  {
   "cell_type": "markdown",
   "metadata": {},
   "source": [
    "## Задание 5*\n",
    "Написать на Python функцию для перемножения двух произвольных матриц, не используя NumPy.\n"
   ]
  },
  {
   "cell_type": "markdown",
   "metadata": {},
   "source": [
    "# Практическое задание 4"
   ]
  },
  {
   "cell_type": "markdown",
   "metadata": {},
   "source": [
    "## Задание 1\n",
    "\n",
    "Вычислить определитель:\n",
    "\n",
    "   a)\n",
    "\n",
    "$$\\begin{vmatrix}\n",
    "sinx & -cosx\\\\ \n",
    "cosx & sinx\n",
    "\\end{vmatrix};$$\n",
    "\n",
    "   б)\n",
    "    \n",
    "$$\\begin{vmatrix}\n",
    "4 & 2 & 3\\\\ \n",
    "0 & 5 & 1\\\\ \n",
    "0 & 0 & 9\n",
    "\\end{vmatrix};$$\n",
    "    \n",
    "   в)\n",
    "\n",
    "$$\\begin{vmatrix}\n",
    "1 & 2 & 3\\\\ \n",
    "4 & 5 & 6\\\\ \n",
    "7 & 8 & 9\n",
    "\\end{vmatrix}.$$"
   ]
  },
  {
   "cell_type": "markdown",
   "metadata": {},
   "source": [
    "a) $ \\det \\begin{vmatrix}\n",
    "sinx & -cosx\\\\ \n",
    "cosx & sinx\n",
    "\\end{vmatrix} = sin^2x + cos^2x = 1 $\n",
    "\n",
    "b) $\\det \\begin{vmatrix}\n",
    "4 & 2 & 3\\\\ \n",
    "0 & 5 & 1\\\\ \n",
    "0 & 0 & 9\n",
    "\\end{vmatrix} = 4 (45 - 0) - 2 (0 - 0) + 3 (0 - 0) = 180$\n",
    "\n",
    "c) $\\det \\begin{vmatrix}\n",
    "1 & 2 & 3\\\\ \n",
    "4 & 5 & 6\\\\ \n",
    "7 & 8 & 9\n",
    "\\end{vmatrix} = 1 (45 - 48) - 2 (36 - 42) + 3 (32 - 35) = -3 + 12 - 9 = 0$"
   ]
  },
  {
   "cell_type": "code",
   "execution_count": null,
   "metadata": {},
   "outputs": [],
   "source": [
    "b = np.array([[4, 2, 3], [0, 5, 1], [0, 0, 9]])\n",
    "np.linalg.det(b)"
   ]
  },
  {
   "cell_type": "code",
   "execution_count": null,
   "metadata": {},
   "outputs": [],
   "source": [
    "c = np.array([[1, 2 ,3], [4, 5, 6], [7, 8, 9]])\n",
    "np.linalg.det(c)"
   ]
  },
  {
   "cell_type": "markdown",
   "metadata": {},
   "source": [
    "## Задание 2"
   ]
  },
  {
   "cell_type": "markdown",
   "metadata": {},
   "source": [
    "Определитель матрицы $A$ равен $4$. Найти:\n",
    "\n",
    "   а) $det(A^{2})$;\n",
    "    \n",
    "   б) $det(A^{T})$;\n",
    "    \n",
    "   в) $det(2A)$."
   ]
  },
  {
   "cell_type": "markdown",
   "metadata": {},
   "source": [
    "a) Для двух квадратных матриц одинакового размера\n",
    "$det(AB)=detA\\cdot detB \\implies \\det{A^2} = 16$ \n",
    "\n"
   ]
  },
  {
   "cell_type": "markdown",
   "metadata": {},
   "source": [
    "б) Определитель транспонированной матрицы равен определителю исходной $\\implies \\det{A^T} = 4$"
   ]
  },
  {
   "cell_type": "markdown",
   "metadata": {},
   "source": [
    "в) Умножение строки или столбца матрицы на число  𝜆  приведет к умножению определителя матрицы на то же число, следовательно \n",
    "\n",
    "$\\det(2A)= 4 \\cdot n$, где n - число строк/столбцов квадратной матрицы"
   ]
  },
  {
   "cell_type": "markdown",
   "metadata": {},
   "source": [
    "## Задание 3"
   ]
  },
  {
   "cell_type": "markdown",
   "metadata": {},
   "source": [
    "Доказать, что матрица\n",
    "\n",
    "$$\\begin{pmatrix}\n",
    "-2 & 7 & -3\\\\ \n",
    "4 & -14 & 6\\\\ \n",
    "-3 & 7 & 13\n",
    "\\end{pmatrix}$$\n",
    "   \n",
    "вырожденная."
   ]
  },
  {
   "cell_type": "markdown",
   "metadata": {},
   "source": [
    "$\\det \\begin{pmatrix}\n",
    "-2 & 7 & -3\\\\ \n",
    "4 & -14 & 6\\\\ \n",
    "-3 & 7 & 13\n",
    "\\end{pmatrix} = -2 (-182 - 42) - 7 (52 + 18) - 3 (28 - 42) = 0\n",
    "$"
   ]
  },
  {
   "cell_type": "markdown",
   "metadata": {},
   "source": [
    "Матрица вырожденная, т.к. ее определитель равен нулю"
   ]
  },
  {
   "cell_type": "code",
   "execution_count": null,
   "metadata": {},
   "outputs": [],
   "source": [
    "a = np.array([[-2, 7, -3], [4, -14, 6], [-3, 7, 13]])\n",
    "np.linalg.det(a)"
   ]
  },
  {
   "cell_type": "markdown",
   "metadata": {},
   "source": [
    "## Задание 4"
   ]
  },
  {
   "cell_type": "markdown",
   "metadata": {},
   "source": [
    "Найти ранг матрицы:\n",
    "\n",
    "   а) $\\begin{pmatrix}\n",
    "1 & 2 & 3\\\\ \n",
    "1 & 1 & 1\\\\ \n",
    "2 & 3 & 4\n",
    "\\end{pmatrix};$\n",
    "\n",
    "   б) $\\begin{pmatrix}\n",
    "0 & 0 & 2 & 1\\\\ \n",
    "0 & 0 & 2 & 2\\\\ \n",
    "0 & 0 & 4 & 3\\\\ \n",
    "2 & 3 & 5 & 6\n",
    "\\end{pmatrix}.$"
   ]
  },
  {
   "cell_type": "markdown",
   "metadata": {},
   "source": [
    "### Решение"
   ]
  },
  {
   "cell_type": "markdown",
   "metadata": {},
   "source": [
    "а) вычтем из второй строки матрицы первую, получим\n",
    "\n",
    "$\n",
    "\\begin{pmatrix}\n",
    "1 & 2 & 3 \\\\ \n",
    "0 & -1 & -2 \\\\ \n",
    "2 & 3 & 4\n",
    "\\end{pmatrix}\n",
    "$\n",
    "\n",
    "вычтем из третьей строки вторую, умноженную на 2\n",
    "\n",
    "$\n",
    "\\begin{pmatrix}\n",
    "1 & 2 & 3 \\\\ \n",
    "0 & -1 & -2 \\\\ \n",
    "0 & -1 & -2\n",
    "\\end{pmatrix}\n",
    "$\n",
    "\n",
    "третью строку можно вычеркнуть и остается матрица ранга 2"
   ]
  },
  {
   "cell_type": "markdown",
   "metadata": {},
   "source": [
    "b) Переставим строки местами для удобства\n",
    "\n",
    "$\\begin{pmatrix}\n",
    "2 & 3 & 5 & 6 \\\\\n",
    "0 & 0 & 2 & 1 \\\\ \n",
    "0 & 0 & 2 & 2 \\\\ \n",
    "0 & 0 & 4 & 3 \n",
    "\\end{pmatrix}$"
   ]
  },
  {
   "cell_type": "markdown",
   "metadata": {},
   "source": [
    "вычтем из 4 строчки удвоенную вторую\n",
    " \n",
    "$\\begin{pmatrix}\n",
    "2 & 3 & 5 & 6 \\\\\n",
    "0 & 0 & 2 & 1 \\\\ \n",
    "0 & 0 & 2 & 2 \\\\ \n",
    "0 & 0 & 0 & 1 \n",
    "\\end{pmatrix}$"
   ]
  },
  {
   "cell_type": "markdown",
   "metadata": {},
   "source": [
    "вычтем из третьей строчки вторую"
   ]
  },
  {
   "cell_type": "markdown",
   "metadata": {},
   "source": [
    "$\\begin{pmatrix}\n",
    "2 & 3 & 5 & 6 \\\\\n",
    "0 & 0 & 2 & 1 \\\\ \n",
    "0 & 0 & 0 & 1 \\\\ \n",
    "0 & 0 & 0 & 1 \n",
    "\\end{pmatrix}$"
   ]
  },
  {
   "cell_type": "markdown",
   "metadata": {},
   "source": [
    "вычеркнем ненужную 4-ю строчку"
   ]
  },
  {
   "cell_type": "markdown",
   "metadata": {},
   "source": [
    "$\\begin{pmatrix}\n",
    "2 & 3 & 5 & 6 \\\\\n",
    "0 & 0 & 2 & 1 \\\\ \n",
    "0 & 0 & 0 & 1\n",
    "\\end{pmatrix}$"
   ]
  },
  {
   "cell_type": "markdown",
   "metadata": {},
   "source": [
    "ранг матрицы равен 3"
   ]
  }
 ],
 "metadata": {
  "kernelspec": {
   "display_name": "Python 3",
   "language": "python",
   "name": "python3"
  },
  "language_info": {
   "codemirror_mode": {
    "name": "ipython",
    "version": 3
   },
   "file_extension": ".py",
   "mimetype": "text/x-python",
   "name": "python",
   "nbconvert_exporter": "python",
   "pygments_lexer": "ipython3",
   "version": "3.8.2"
  }
 },
 "nbformat": 4,
 "nbformat_minor": 4
}
